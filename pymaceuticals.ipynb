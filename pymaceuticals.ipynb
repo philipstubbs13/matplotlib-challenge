{
 "cells": [
  {
   "cell_type": "markdown",
   "metadata": {},
   "source": [
    "# Observations and Insights\n",
    "\n",
    "Observations or inferences that can be made from the data."
   ]
  },
  {
   "cell_type": "markdown",
   "metadata": {},
   "source": []
  },
  {
   "cell_type": "markdown",
   "metadata": {},
   "source": [
    "# Dependencies and starter code"
   ]
  },
  {
   "cell_type": "code",
   "execution_count": 19,
   "metadata": {},
   "outputs": [
    {
     "data": {
      "text/html": [
       "<div>\n",
       "<style scoped>\n",
       "    .dataframe tbody tr th:only-of-type {\n",
       "        vertical-align: middle;\n",
       "    }\n",
       "\n",
       "    .dataframe tbody tr th {\n",
       "        vertical-align: top;\n",
       "    }\n",
       "\n",
       "    .dataframe thead th {\n",
       "        text-align: right;\n",
       "    }\n",
       "</style>\n",
       "<table border=\"1\" class=\"dataframe\">\n",
       "  <thead>\n",
       "    <tr style=\"text-align: right;\">\n",
       "      <th></th>\n",
       "      <th>Mouse ID</th>\n",
       "      <th>Drug Regimen</th>\n",
       "      <th>Sex</th>\n",
       "      <th>Age_months</th>\n",
       "      <th>Weight (g)</th>\n",
       "      <th>Timepoint</th>\n",
       "      <th>Tumor Volume (mm3)</th>\n",
       "      <th>Metastatic Sites</th>\n",
       "    </tr>\n",
       "  </thead>\n",
       "  <tbody>\n",
       "    <tr>\n",
       "      <th>0</th>\n",
       "      <td>k403</td>\n",
       "      <td>Ramicane</td>\n",
       "      <td>Male</td>\n",
       "      <td>21</td>\n",
       "      <td>16</td>\n",
       "      <td>0</td>\n",
       "      <td>45.000000</td>\n",
       "      <td>0</td>\n",
       "    </tr>\n",
       "    <tr>\n",
       "      <th>1</th>\n",
       "      <td>k403</td>\n",
       "      <td>Ramicane</td>\n",
       "      <td>Male</td>\n",
       "      <td>21</td>\n",
       "      <td>16</td>\n",
       "      <td>5</td>\n",
       "      <td>38.825898</td>\n",
       "      <td>0</td>\n",
       "    </tr>\n",
       "    <tr>\n",
       "      <th>2</th>\n",
       "      <td>k403</td>\n",
       "      <td>Ramicane</td>\n",
       "      <td>Male</td>\n",
       "      <td>21</td>\n",
       "      <td>16</td>\n",
       "      <td>10</td>\n",
       "      <td>35.014271</td>\n",
       "      <td>1</td>\n",
       "    </tr>\n",
       "    <tr>\n",
       "      <th>3</th>\n",
       "      <td>k403</td>\n",
       "      <td>Ramicane</td>\n",
       "      <td>Male</td>\n",
       "      <td>21</td>\n",
       "      <td>16</td>\n",
       "      <td>15</td>\n",
       "      <td>34.223992</td>\n",
       "      <td>1</td>\n",
       "    </tr>\n",
       "    <tr>\n",
       "      <th>4</th>\n",
       "      <td>k403</td>\n",
       "      <td>Ramicane</td>\n",
       "      <td>Male</td>\n",
       "      <td>21</td>\n",
       "      <td>16</td>\n",
       "      <td>20</td>\n",
       "      <td>32.997729</td>\n",
       "      <td>1</td>\n",
       "    </tr>\n",
       "    <tr>\n",
       "      <th>...</th>\n",
       "      <td>...</td>\n",
       "      <td>...</td>\n",
       "      <td>...</td>\n",
       "      <td>...</td>\n",
       "      <td>...</td>\n",
       "      <td>...</td>\n",
       "      <td>...</td>\n",
       "      <td>...</td>\n",
       "    </tr>\n",
       "    <tr>\n",
       "      <th>1888</th>\n",
       "      <td>z969</td>\n",
       "      <td>Naftisol</td>\n",
       "      <td>Male</td>\n",
       "      <td>9</td>\n",
       "      <td>30</td>\n",
       "      <td>25</td>\n",
       "      <td>63.145652</td>\n",
       "      <td>2</td>\n",
       "    </tr>\n",
       "    <tr>\n",
       "      <th>1889</th>\n",
       "      <td>z969</td>\n",
       "      <td>Naftisol</td>\n",
       "      <td>Male</td>\n",
       "      <td>9</td>\n",
       "      <td>30</td>\n",
       "      <td>30</td>\n",
       "      <td>65.841013</td>\n",
       "      <td>3</td>\n",
       "    </tr>\n",
       "    <tr>\n",
       "      <th>1890</th>\n",
       "      <td>z969</td>\n",
       "      <td>Naftisol</td>\n",
       "      <td>Male</td>\n",
       "      <td>9</td>\n",
       "      <td>30</td>\n",
       "      <td>35</td>\n",
       "      <td>69.176246</td>\n",
       "      <td>4</td>\n",
       "    </tr>\n",
       "    <tr>\n",
       "      <th>1891</th>\n",
       "      <td>z969</td>\n",
       "      <td>Naftisol</td>\n",
       "      <td>Male</td>\n",
       "      <td>9</td>\n",
       "      <td>30</td>\n",
       "      <td>40</td>\n",
       "      <td>70.314904</td>\n",
       "      <td>4</td>\n",
       "    </tr>\n",
       "    <tr>\n",
       "      <th>1892</th>\n",
       "      <td>z969</td>\n",
       "      <td>Naftisol</td>\n",
       "      <td>Male</td>\n",
       "      <td>9</td>\n",
       "      <td>30</td>\n",
       "      <td>45</td>\n",
       "      <td>73.867845</td>\n",
       "      <td>4</td>\n",
       "    </tr>\n",
       "  </tbody>\n",
       "</table>\n",
       "<p>1893 rows × 8 columns</p>\n",
       "</div>"
      ],
      "text/plain": [
       "     Mouse ID Drug Regimen   Sex  Age_months  Weight (g)  Timepoint  \\\n",
       "0        k403     Ramicane  Male          21          16          0   \n",
       "1        k403     Ramicane  Male          21          16          5   \n",
       "2        k403     Ramicane  Male          21          16         10   \n",
       "3        k403     Ramicane  Male          21          16         15   \n",
       "4        k403     Ramicane  Male          21          16         20   \n",
       "...       ...          ...   ...         ...         ...        ...   \n",
       "1888     z969     Naftisol  Male           9          30         25   \n",
       "1889     z969     Naftisol  Male           9          30         30   \n",
       "1890     z969     Naftisol  Male           9          30         35   \n",
       "1891     z969     Naftisol  Male           9          30         40   \n",
       "1892     z969     Naftisol  Male           9          30         45   \n",
       "\n",
       "      Tumor Volume (mm3)  Metastatic Sites  \n",
       "0              45.000000                 0  \n",
       "1              38.825898                 0  \n",
       "2              35.014271                 1  \n",
       "3              34.223992                 1  \n",
       "4              32.997729                 1  \n",
       "...                  ...               ...  \n",
       "1888           63.145652                 2  \n",
       "1889           65.841013                 3  \n",
       "1890           69.176246                 4  \n",
       "1891           70.314904                 4  \n",
       "1892           73.867845                 4  \n",
       "\n",
       "[1893 rows x 8 columns]"
      ]
     },
     "execution_count": 19,
     "metadata": {},
     "output_type": "execute_result"
    }
   ],
   "source": [
    "# Dependencies and setup\n",
    "import matplotlib.pyplot as plt\n",
    "import pandas as pd\n",
    "import scipy.stats as st\n",
    "import numpy as np\n",
    "from itertools import cycle, islice\n",
    "\n",
    "# Mouse and study data files.\n",
    "mouse_metadata = \"data/Mouse_metadata.csv\"\n",
    "study_results = \"data/Study_results.csv\"\n",
    "\n",
    "# Read the mouse data and the study results.\n",
    "mouse_metadata = pd.read_csv(mouse_metadata)\n",
    "study_results = pd.read_csv(study_results)\n",
    "\n",
    "# Combine the data into a single dataset.\n",
    "merged_df = pd.merge(mouse_metadata, study_results, on=\"Mouse ID\", how=\"outer\")\n",
    "merged_df"
   ]
  },
  {
   "cell_type": "markdown",
   "metadata": {},
   "source": [
    "# Summary statistics"
   ]
  },
  {
   "cell_type": "code",
   "execution_count": 3,
   "metadata": {},
   "outputs": [
    {
     "data": {
      "text/html": [
       "<div>\n",
       "<style scoped>\n",
       "    .dataframe tbody tr th:only-of-type {\n",
       "        vertical-align: middle;\n",
       "    }\n",
       "\n",
       "    .dataframe tbody tr th {\n",
       "        vertical-align: top;\n",
       "    }\n",
       "\n",
       "    .dataframe thead th {\n",
       "        text-align: right;\n",
       "    }\n",
       "</style>\n",
       "<table border=\"1\" class=\"dataframe\">\n",
       "  <thead>\n",
       "    <tr style=\"text-align: right;\">\n",
       "      <th></th>\n",
       "      <th>Tumor Volume (mm3) Mean</th>\n",
       "      <th>Tumor Volume (mm3) Median</th>\n",
       "      <th>Tumor Volume (mm3) Variance</th>\n",
       "      <th>Tumor Volume (mm3) Standard Deviation</th>\n",
       "      <th>Tumor Volume (mm3) SEM</th>\n",
       "    </tr>\n",
       "    <tr>\n",
       "      <th>Drug Regimen</th>\n",
       "      <th></th>\n",
       "      <th></th>\n",
       "      <th></th>\n",
       "      <th></th>\n",
       "      <th></th>\n",
       "    </tr>\n",
       "  </thead>\n",
       "  <tbody>\n",
       "    <tr>\n",
       "      <th>Capomulin</th>\n",
       "      <td>40.675741</td>\n",
       "      <td>41.557809</td>\n",
       "      <td>24.947764</td>\n",
       "      <td>4.994774</td>\n",
       "      <td>0.329346</td>\n",
       "    </tr>\n",
       "    <tr>\n",
       "      <th>Ceftamin</th>\n",
       "      <td>52.591172</td>\n",
       "      <td>51.776157</td>\n",
       "      <td>39.290177</td>\n",
       "      <td>6.268188</td>\n",
       "      <td>0.469821</td>\n",
       "    </tr>\n",
       "    <tr>\n",
       "      <th>Infubinol</th>\n",
       "      <td>52.884795</td>\n",
       "      <td>51.820584</td>\n",
       "      <td>43.128684</td>\n",
       "      <td>6.567243</td>\n",
       "      <td>0.492236</td>\n",
       "    </tr>\n",
       "    <tr>\n",
       "      <th>Ketapril</th>\n",
       "      <td>55.235638</td>\n",
       "      <td>53.698743</td>\n",
       "      <td>68.553577</td>\n",
       "      <td>8.279709</td>\n",
       "      <td>0.603860</td>\n",
       "    </tr>\n",
       "    <tr>\n",
       "      <th>Naftisol</th>\n",
       "      <td>54.331565</td>\n",
       "      <td>52.509285</td>\n",
       "      <td>66.173479</td>\n",
       "      <td>8.134708</td>\n",
       "      <td>0.596466</td>\n",
       "    </tr>\n",
       "    <tr>\n",
       "      <th>Placebo</th>\n",
       "      <td>54.033581</td>\n",
       "      <td>52.288934</td>\n",
       "      <td>61.168083</td>\n",
       "      <td>7.821003</td>\n",
       "      <td>0.581331</td>\n",
       "    </tr>\n",
       "    <tr>\n",
       "      <th>Propriva</th>\n",
       "      <td>52.322552</td>\n",
       "      <td>50.854632</td>\n",
       "      <td>42.351070</td>\n",
       "      <td>6.507770</td>\n",
       "      <td>0.512884</td>\n",
       "    </tr>\n",
       "    <tr>\n",
       "      <th>Ramicane</th>\n",
       "      <td>40.216745</td>\n",
       "      <td>40.673236</td>\n",
       "      <td>23.486704</td>\n",
       "      <td>4.846308</td>\n",
       "      <td>0.320955</td>\n",
       "    </tr>\n",
       "    <tr>\n",
       "      <th>Stelasyn</th>\n",
       "      <td>54.233149</td>\n",
       "      <td>52.431737</td>\n",
       "      <td>59.450562</td>\n",
       "      <td>7.710419</td>\n",
       "      <td>0.573111</td>\n",
       "    </tr>\n",
       "    <tr>\n",
       "      <th>Zoniferol</th>\n",
       "      <td>53.236507</td>\n",
       "      <td>51.818479</td>\n",
       "      <td>48.533355</td>\n",
       "      <td>6.966589</td>\n",
       "      <td>0.516398</td>\n",
       "    </tr>\n",
       "  </tbody>\n",
       "</table>\n",
       "</div>"
      ],
      "text/plain": [
       "              Tumor Volume (mm3) Mean  Tumor Volume (mm3) Median  \\\n",
       "Drug Regimen                                                       \n",
       "Capomulin                   40.675741                  41.557809   \n",
       "Ceftamin                    52.591172                  51.776157   \n",
       "Infubinol                   52.884795                  51.820584   \n",
       "Ketapril                    55.235638                  53.698743   \n",
       "Naftisol                    54.331565                  52.509285   \n",
       "Placebo                     54.033581                  52.288934   \n",
       "Propriva                    52.322552                  50.854632   \n",
       "Ramicane                    40.216745                  40.673236   \n",
       "Stelasyn                    54.233149                  52.431737   \n",
       "Zoniferol                   53.236507                  51.818479   \n",
       "\n",
       "              Tumor Volume (mm3) Variance  \\\n",
       "Drug Regimen                                \n",
       "Capomulin                       24.947764   \n",
       "Ceftamin                        39.290177   \n",
       "Infubinol                       43.128684   \n",
       "Ketapril                        68.553577   \n",
       "Naftisol                        66.173479   \n",
       "Placebo                         61.168083   \n",
       "Propriva                        42.351070   \n",
       "Ramicane                        23.486704   \n",
       "Stelasyn                        59.450562   \n",
       "Zoniferol                       48.533355   \n",
       "\n",
       "              Tumor Volume (mm3) Standard Deviation  Tumor Volume (mm3) SEM  \n",
       "Drug Regimen                                                                 \n",
       "Capomulin                                  4.994774                0.329346  \n",
       "Ceftamin                                   6.268188                0.469821  \n",
       "Infubinol                                  6.567243                0.492236  \n",
       "Ketapril                                   8.279709                0.603860  \n",
       "Naftisol                                   8.134708                0.596466  \n",
       "Placebo                                    7.821003                0.581331  \n",
       "Propriva                                   6.507770                0.512884  \n",
       "Ramicane                                   4.846308                0.320955  \n",
       "Stelasyn                                   7.710419                0.573111  \n",
       "Zoniferol                                  6.966589                0.516398  "
      ]
     },
     "execution_count": 3,
     "metadata": {},
     "output_type": "execute_result"
    }
   ],
   "source": [
    "# Generate a summary statistics table of mean, median, variance, standard deviation,\n",
    "# and SEM of the tumor volume for each regimen\n",
    "\n",
    "# Grouping by Drug Regimen, caclulate mean for each regimen.\n",
    "summary_stats_mean = merged_df.groupby(['Drug Regimen'])['Tumor Volume (mm3)'].mean()\n",
    "\n",
    "# Grouping by Drug Regimen, calculate median for each regimen.\n",
    "summary_stats_median = merged_df.groupby(['Drug Regimen'])['Tumor Volume (mm3)'].median()\n",
    "\n",
    "# Grouping by Drug Regimen, calculate variance for each regimen.\n",
    "summary_stats_variance = merged_df.groupby(['Drug Regimen'])['Tumor Volume (mm3)'].var()\n",
    "\n",
    "# Grouping by Drug Regimen, calculate standard deviation for each regimen.\n",
    "summary_stats_std = merged_df.groupby(['Drug Regimen'])['Tumor Volume (mm3)'].std()\n",
    "\n",
    "# Grouping by Drug Regimen, calculate the SEM (Standard Error of the Mean) for each regimen\n",
    "summary_stats_sem = merged_df.groupby(['Drug Regimen'])['Tumor Volume (mm3)'].sem()\n",
    "\n",
    "# Combine summary stats into one summary dataframe and rename columns.\n",
    "summary_stats_df = summary_stats_mean.to_frame().join(summary_stats_median, lsuffix=\" Mean\", rsuffix=\" Median\")\n",
    "summary_stats_df = summary_stats_df.join(summary_stats_variance)\n",
    "summary_stats_df = summary_stats_df.rename(columns={ \"Tumor Volume (mm3)\": \"Tumor Volume (mm3) Variance\"})\n",
    "summary_stats_df = summary_stats_df.join(summary_stats_std)\n",
    "summary_stats_df = summary_stats_df.rename(columns={ \"Tumor Volume (mm3)\": \"Tumor Volume (mm3) Standard Deviation\"})\n",
    "summary_stats_df = summary_stats_df.join(summary_stats_sem)\n",
    "summary_stats_df = summary_stats_df.rename(columns={ \"Tumor Volume (mm3)\": \"Tumor Volume (mm3) SEM\"})\n",
    "\n",
    "summary_stats_df"
   ]
  },
  {
   "cell_type": "markdown",
   "metadata": {},
   "source": [
    "# DONE Bar plots"
   ]
  },
  {
   "cell_type": "markdown",
   "metadata": {},
   "source": [
    "## DONE Using pandas to generate a bar plot showing number of data points for each treatment regimen"
   ]
  },
  {
   "cell_type": "code",
   "execution_count": 4,
   "metadata": {},
   "outputs": [
    {
     "name": "stdout",
     "output_type": "stream",
     "text": [
      "           Drug Regimen Data Count\n",
      "Capomulin                      230\n",
      "Ramicane                       228\n",
      "Ketapril                       188\n",
      "Naftisol                       186\n",
      "Zoniferol                      182\n",
      "Stelasyn                       181\n",
      "Placebo                        181\n",
      "Infubinol                      178\n",
      "Ceftamin                       178\n",
      "Propriva                       161\n"
     ]
    },
    {
     "data": {
      "text/plain": [
       "[]"
      ]
     },
     "execution_count": 4,
     "metadata": {},
     "output_type": "execute_result"
    },
    {
     "data": {
      "image/png": "[encoded data removed]",
      "text/plain": [
       "<Figure size 720x504 with 1 Axes>"
      ]
     },
     "metadata": {
      "needs_background": "light"
     },
     "output_type": "display_data"
    }
   ],
   "source": [
    "# Group by Drug Regimen and use .value_counts to determine the number of data points for each regimen.\n",
    "number_of_data_points_per_regimen = merged_df[\"Drug Regimen\"].value_counts()\n",
    "\n",
    "# Conver to pandas dataframe.\n",
    "number_points_df = pd.DataFrame(number_of_data_points_per_regimen)\n",
    "\n",
    "# Rename column.\n",
    "number_points_df = number_points_df.rename(columns={\n",
    "    \"Drug Regimen\": \"Drug Regimen Data Count\"\n",
    "})\n",
    "\n",
    "# Print the dataframe\n",
    "print(number_points_df)\n",
    "\n",
    "# Configure bar colors\n",
    "colors = list(islice(cycle(['b', 'r', 'g', 'y', 'k']), None, len(number_points_df)))\n",
    "\n",
    "# Create bar chart using pandas.\n",
    "pandas_plot = number_of_data_points_per_regimen.plot(kind=\"bar\", color=colors, figsize=(10,7))\n",
    "\n",
    "# Add labels for axes and add a title for the graph.\n",
    "pandas_plot.set_title(\"Number of data points for each treatment regimen\")\n",
    "pandas_plot.set_ylabel(\"Number of data points\")\n",
    "pandas_plot.set_xlabel(\"Drug Regimen\")\n",
    "\n",
    "# Set x axis and tick locations\n",
    "x_axis = np.arange(len(number_points_df))\n",
    "tick_locations = [value for value in x_axis]\n",
    "pandas_plot.set_xticks(tick_locations)\n",
    "\n",
    "# Use the name of the regimen for the x-axis tick labels.\n",
    "# Rotate x-axis labels 45 degrees\n",
    "pandas_plot.set_xticklabels(number_points_df.index, rotation=45)\n",
    "\n",
    "# Configure limits for x-axis and y-axis.\n",
    "pandas_plot.set_xlim(-0.75, len(number_points_df)+0.25)\n",
    "pandas_plot.set_ylim(0, max(number_points_df[\"Drug Regimen Data Count\"])+50)\n",
    "\n",
    "# Show plot\n",
    "pandas_plot.plot()"
   ]
  },
  {
   "cell_type": "markdown",
   "metadata": {},
   "source": [
    "## DONE Using matplotlib pyplot to create a bar plot showing number of data points for each treatment regimen"
   ]
  },
  {
   "cell_type": "code",
   "execution_count": 5,
   "metadata": {},
   "outputs": [
    {
     "data": {
      "image/png": "[encoded data removed]",
      "text/plain": [
       "<Figure size 720x504 with 1 Axes>"
      ]
     },
     "metadata": {
      "needs_background": "light"
     },
     "output_type": "display_data"
    }
   ],
   "source": [
    "# Configure figure size\n",
    "plt.figure(figsize= (10,7))\n",
    "\n",
    "# Create bar chart using matplotlib pyplot.\n",
    "plt.bar(x_axis, number_points_df[\"Drug Regimen Data Count\"], align=\"center\", color=colors, width=0.50)\n",
    "\n",
    "# Configure x-axis labels\n",
    "plt.xticks(tick_locations, number_points_df.index.values, rotation=45)\n",
    "\n",
    "# Add labels for axes and add a title for the graph.\n",
    "plt.xlabel(\"Drug Regimen\")\n",
    "plt.ylabel(\"Number of data points\")\n",
    "plt.title(\"Number of data points for each treatment regimen\")\n",
    "\n",
    "# Configure limits for x-axis and y-axis\n",
    "plt.xlim(-0.75, len(number_points_df)+0.25)\n",
    "plt.ylim(0, max(number_points_df[\"Drug Regimen Data Count\"])+50)\n",
    "\n",
    "# Show plot\n",
    "plt.show()"
   ]
  },
  {
   "cell_type": "markdown",
   "metadata": {},
   "source": [
    "# DONE Pie plots"
   ]
  },
  {
   "cell_type": "markdown",
   "metadata": {},
   "source": [
    "## DONE Using pandas to chart the distribution of female versus male mice in the study"
   ]
  },
  {
   "cell_type": "code",
   "execution_count": 6,
   "metadata": {},
   "outputs": [
    {
     "name": "stdout",
     "output_type": "stream",
     "text": [
      "Sex\n",
      "Female    124\n",
      "Male      125\n",
      "Name: Mouse ID, dtype: int64\n"
     ]
    },
    {
     "data": {
      "text/plain": [
       "[]"
      ]
     },
     "execution_count": 6,
     "metadata": {},
     "output_type": "execute_result"
    },
    {
     "data": {
      "image/png": "[encoded data removed]",
      "text/plain": [
       "<Figure size 432x288 with 1 Axes>"
      ]
     },
     "metadata": {},
     "output_type": "display_data"
    }
   ],
   "source": [
    "# Group dataframe by gender and count up male and female mice.\n",
    "# Use .nunique so we don't count mice more than once.\n",
    "gender_group = merged_df.groupby(['Sex'])['Mouse ID'].nunique()\n",
    "\n",
    "# Print the results of grouping by gender.\n",
    "print(gender_group)\n",
    "\n",
    "# The colors of each section of the pie chart.\n",
    "colors = [\"orange\", \"lightskyblue\"]\n",
    "\n",
    "# Create pie chart using pandas.\n",
    "pandas_plot = gender_group.plot(kind=\"pie\", y=\"Mouse ID\", startangle=90, autopct=\"%1.1f%%\", colors=colors)\n",
    "\n",
    "# Add labels for axes and add a title for the graph.\n",
    "pandas_plot.set_title(\"Distribution of female versus male mice in the study.\")\n",
    "\n",
    "# Hide y label\n",
    "pandas_plot.set_ylabel('')\n",
    "\n",
    "# Add legend\n",
    "pandas_plot.legend(loc='best')\n",
    "\n",
    "# Equal axis\n",
    "pandas_plot.set_aspect('equal') \n",
    "\n",
    "# Show plot\n",
    "pandas_plot.plot()"
   ]
  },
  {
   "cell_type": "markdown",
   "metadata": {},
   "source": [
    "## DONE Using matplotlib pyplot to chart the distribution of female versus male mice in the study"
   ]
  },
  {
   "cell_type": "code",
   "execution_count": 7,
   "metadata": {},
   "outputs": [
    {
     "name": "stdout",
     "output_type": "stream",
     "text": [
      "        Mouse ID\n",
      "Sex             \n",
      "Female       124\n",
      "Male         125\n"
     ]
    },
    {
     "data": {
      "image/png": "[encoded data removed]",
      "text/plain": [
       "<Figure size 432x288 with 1 Axes>"
      ]
     },
     "metadata": {},
     "output_type": "display_data"
    }
   ],
   "source": [
    "# Conver result of groupby to dataframe.\n",
    "gender_group_df = pd.DataFrame(gender_group)\n",
    "\n",
    "# Print the dataframe\n",
    "print(gender_group_df)\n",
    "\n",
    "# Labels for the sections of our pie chart\n",
    "labels = list(gender_group_df.index.values)\n",
    "\n",
    "# The values of each section of the pie chart\n",
    "sizes = list(gender_group_df.loc[:, \"Mouse ID\"])\n",
    "\n",
    "# The colors of each section of the pie chart\n",
    "colors = [\"orange\", \"lightskyblue\"]\n",
    "\n",
    "# Automatically finds the percentages of each part of the pie chart\n",
    "plt.pie(sizes, labels=labels, colors=colors, autopct=\"%1.1f%%\", shadow=False, startangle=90)\n",
    "\n",
    "# Equal axis\n",
    "plt.axis(\"equal\")\n",
    "\n",
    "# Add title and legend.\n",
    "plt.title(\"Distribution of female versus male mice in the study\")\n",
    "plt.legend(loc=\"best\")\n",
    "\n",
    "# Show plot\n",
    "plt.show()"
   ]
  },
  {
   "cell_type": "markdown",
   "metadata": {},
   "source": [
    "# Quartiles, outliers, and boxplots"
   ]
  },
  {
   "cell_type": "code",
   "execution_count": 35,
   "metadata": {},
   "outputs": [],
   "source": [
    "# Calculate the final tumor volume of each mouse across four of the most promising treatment regimens.-\n",
    "# Capomulin, Ramicane, Infubinol, and Ceftamin\n",
    "most_prominent_regimens = merged_df.set_index(\"Drug Regimen\")\n"
   ]
  },
  {
   "cell_type": "code",
   "execution_count": 40,
   "metadata": {},
   "outputs": [
    {
     "name": "stdout",
     "output_type": "stream",
     "text": [
      "Final tumor volume of each mouse for Ceftamin\n",
      "----------------------------------------------\n",
      "          Final Tumor Volume (mm3)\n",
      "Mouse ID                          \n",
      "a275                     62.999356\n",
      "b447                     45.000000\n",
      "b487                     56.057749\n",
      "b759                     55.742829\n",
      "f436                     48.722078\n",
      "h531                     47.784682\n",
      "j296                     61.849023\n",
      "k210                     68.923185\n",
      "l471                     67.748662\n",
      "l490                     57.918381\n",
      "l558                     46.784535\n",
      "l661                     59.851956\n",
      "l733                     64.299830\n",
      "o287                     59.741901\n",
      "p438                     61.433892\n",
      "q483                     64.192341\n",
      "t573                     45.000000\n",
      "u149                     52.925348\n",
      "u153                     45.000000\n",
      "w151                     67.527482\n",
      "x226                     45.000000\n",
      "x581                     64.634949\n",
      "x822                     61.386660\n",
      "y769                     68.594745\n",
      "y865                     64.729837\n",
      "----------------------------------------------\n"
     ]
    },
    {
     "name": "stderr",
     "output_type": "stream",
     "text": [
      "C:\\Users\\phili\\Anaconda3\\envs\\PythonData\\lib\\site-packages\\ipykernel_launcher.py:8: FutureWarning: using a dict on a Series for aggregation\n",
      "is deprecated and will be removed in a future version. Use                 named aggregation instead.\n",
      "\n",
      "    >>> grouper.agg(name_1=func_1, name_2=func_2)\n",
      "\n",
      "  \n",
      "C:\\Users\\phili\\Anaconda3\\envs\\PythonData\\lib\\site-packages\\ipykernel_launcher.py:11: FutureWarning: using a dict on a Series for aggregation\n",
      "is deprecated and will be removed in a future version. Use                 named aggregation instead.\n",
      "\n",
      "    >>> grouper.agg(name_1=func_1, name_2=func_2)\n",
      "\n",
      "  # This is added back by InteractiveShellApp.init_path()\n"
     ]
    }
   ],
   "source": [
    "# Find mice treated with the Ceftamin regimen.\n",
    "ceftamin_regmen = most_prominent_regimens.loc[[\"Ceftamin\"], [\"Mouse ID\", \"Tumor Volume (mm3)\", \"Timepoint\"]]\n",
    "\n",
    "# Group the results by Mouse ID.\n",
    "ceftamin_group = ceftamin_regmen.groupby(['Mouse ID'])\n",
    "\n",
    "# Calculate the final tumor volume of each mouse.\n",
    "ceftamin_res = ceftamin_group['Tumor Volume (mm3)'].agg({'last': 'last'})                                              \n",
    "\n",
    "# Rename column to be something more meaningful.\n",
    "ceftamin_res = ceftamin_group['Tumor Volume (mm3)'].agg({'Final Tumor Volume (mm3)': 'last'})\n",
    "                                              \n",
    "print(\"Final tumor volume of each mouse for Ceftamin\")\n",
    "print(\"----------------------------------------------\")\n",
    "print(ceftamin_res)\n",
    "print(\"----------------------------------------------\")"
   ]
  },
  {
   "cell_type": "code",
   "execution_count": 37,
   "metadata": {},
   "outputs": [
    {
     "name": "stdout",
     "output_type": "stream",
     "text": [
      "Final tumor volume of each mouse for Capomulin\n",
      "----------------------------------------------\n",
      "          Final Tumor Volume (mm3)\n",
      "Mouse ID                          \n",
      "b128                     38.982878\n",
      "b742                     38.939633\n",
      "f966                     30.485985\n",
      "g288                     37.074024\n",
      "g316                     40.159220\n",
      "i557                     47.685963\n",
      "i738                     37.311846\n",
      "j119                     38.125164\n",
      "j246                     38.753265\n",
      "l509                     41.483008\n",
      "l897                     38.846876\n",
      "m601                     28.430964\n",
      "m957                     33.329098\n",
      "r157                     46.539206\n",
      "r554                     32.377357\n",
      "r944                     41.581521\n",
      "s185                     23.343598\n",
      "s710                     40.728578\n",
      "t565                     34.455298\n",
      "u364                     31.023923\n",
      "v923                     40.658124\n",
      "w150                     39.952347\n",
      "w914                     36.041047\n",
      "x401                     28.484033\n",
      "y793                     31.896238\n",
      "----------------------------------------------\n"
     ]
    },
    {
     "name": "stderr",
     "output_type": "stream",
     "text": [
      "C:\\Users\\phili\\Anaconda3\\envs\\PythonData\\lib\\site-packages\\ipykernel_launcher.py:6: FutureWarning: using a dict on a Series for aggregation\n",
      "is deprecated and will be removed in a future version. Use                 named aggregation instead.\n",
      "\n",
      "    >>> grouper.agg(name_1=func_1, name_2=func_2)\n",
      "\n",
      "  \n",
      "C:\\Users\\phili\\Anaconda3\\envs\\PythonData\\lib\\site-packages\\ipykernel_launcher.py:8: FutureWarning: using a dict on a Series for aggregation\n",
      "is deprecated and will be removed in a future version. Use                 named aggregation instead.\n",
      "\n",
      "    >>> grouper.agg(name_1=func_1, name_2=func_2)\n",
      "\n",
      "  \n"
     ]
    }
   ],
   "source": [
    "# Find mice treated with the Capomulin regimen.\n",
    "capomulin_regmen = most_prominent_regimens.loc[[\"Capomulin\"], [\"Mouse ID\", \"Tumor Volume (mm3)\", \"Timepoint\"]]\n",
    "\n",
    "# Group the results by Mouse ID.\n",
    "capomulin_group = capomulin_regmen.groupby(['Mouse ID'])\n",
    "\n",
    "# Calculate the final tumor volume of each mouse.\n",
    "capomulin_res = capomulin_group['Tumor Volume (mm3)'].agg({'last': 'last'})\n",
    "\n",
    "# Rename column to be something more meaningful.\n",
    "capomulin_res = capomulin_group['Tumor Volume (mm3)'].agg({'Final Tumor Volume (mm3)': 'last'})\n",
    "\n",
    "print(\"Final tumor volume of each mouse for Capomulin\")\n",
    "print(\"----------------------------------------------\")\n",
    "print(capomulin_res)\n",
    "print(\"----------------------------------------------\")"
   ]
  },
  {
   "cell_type": "code",
   "execution_count": 41,
   "metadata": {},
   "outputs": [
    {
     "name": "stdout",
     "output_type": "stream",
     "text": [
      "Final tumor volume of each mouse for Ramicane\n",
      "----------------------------------------------\n",
      "          Final Tumor Volume (mm3)\n",
      "Mouse ID                          \n",
      "a411                     38.407618\n",
      "a444                     43.047543\n",
      "a520                     38.810366\n",
      "a644                     32.978522\n",
      "c458                     38.342008\n",
      "c758                     33.397653\n",
      "d251                     37.311236\n",
      "e662                     40.659006\n",
      "g791                     29.128472\n",
      "i177                     33.562402\n",
      "i334                     36.374510\n",
      "j913                     31.560470\n",
      "j989                     36.134852\n",
      "k403                     22.050126\n",
      "m546                     30.564625\n",
      "n364                     31.095335\n",
      "q597                     45.220869\n",
      "q610                     36.561652\n",
      "r811                     37.225650\n",
      "r921                     43.419381\n",
      "s508                     30.276232\n",
      "u196                     40.667713\n",
      "w678                     43.166373\n",
      "y449                     44.183451\n",
      "z578                     30.638696\n",
      "----------------------------------------------\n"
     ]
    },
    {
     "name": "stderr",
     "output_type": "stream",
     "text": [
      "C:\\Users\\phili\\Anaconda3\\envs\\PythonData\\lib\\site-packages\\ipykernel_launcher.py:8: FutureWarning: using a dict on a Series for aggregation\n",
      "is deprecated and will be removed in a future version. Use                 named aggregation instead.\n",
      "\n",
      "    >>> grouper.agg(name_1=func_1, name_2=func_2)\n",
      "\n",
      "  \n",
      "C:\\Users\\phili\\Anaconda3\\envs\\PythonData\\lib\\site-packages\\ipykernel_launcher.py:11: FutureWarning: using a dict on a Series for aggregation\n",
      "is deprecated and will be removed in a future version. Use                 named aggregation instead.\n",
      "\n",
      "    >>> grouper.agg(name_1=func_1, name_2=func_2)\n",
      "\n",
      "  # This is added back by InteractiveShellApp.init_path()\n"
     ]
    }
   ],
   "source": [
    "# Find mice treated with the Ramicane regmen.\n",
    "ramicane_regmen = most_prominent_regimens.loc[[\"Ramicane\"], [\"Mouse ID\", \"Tumor Volume (mm3)\", \"Timepoint\"]]\n",
    "\n",
    "# Group the results by Mouse ID.\n",
    "ramicane_group = ramicane_regmen.groupby(['Mouse ID'])\n",
    "\n",
    "# Calculate the final tumor volume of each mouse.\n",
    "ramicane_res = ramicane_group['Tumor Volume (mm3)'].agg({'last': 'last'})\n",
    "\n",
    "# Rename column to be something more meaningful.\n",
    "ramicane_res = ramicane_group['Tumor Volume (mm3)'].agg({'Final Tumor Volume (mm3)': 'last'})\n",
    "\n",
    "print(\"Final tumor volume of each mouse for Ramicane\")\n",
    "print(\"----------------------------------------------\")\n",
    "print(ramicane_res)\n",
    "print(\"----------------------------------------------\")"
   ]
  },
  {
   "cell_type": "code",
   "execution_count": 39,
   "metadata": {},
   "outputs": [
    {
     "name": "stdout",
     "output_type": "stream",
     "text": [
      "Final tumor volume of each mouse for Infubinol\n",
      "----------------------------------------------\n",
      "          Final Tumor Volume (mm3)\n",
      "Mouse ID                          \n",
      "a203                     67.973419\n",
      "a251                     65.525743\n",
      "a577                     57.031862\n",
      "a685                     66.083066\n",
      "c139                     72.226731\n",
      "c326                     36.321346\n",
      "c895                     60.969711\n",
      "e476                     62.435404\n",
      "f345                     60.918767\n",
      "i386                     67.289621\n",
      "k483                     66.196912\n",
      "k804                     62.117279\n",
      "m756                     47.010364\n",
      "n671                     60.165180\n",
      "o809                     55.629428\n",
      "o813                     45.699331\n",
      "q132                     54.656549\n",
      "s121                     55.650681\n",
      "v339                     46.250112\n",
      "v719                     54.048608\n",
      "v766                     51.542431\n",
      "w193                     50.005138\n",
      "w584                     58.268442\n",
      "y163                     67.685569\n",
      "z581                     62.754451\n",
      "----------------------------------------------\n"
     ]
    },
    {
     "name": "stderr",
     "output_type": "stream",
     "text": [
      "C:\\Users\\phili\\Anaconda3\\envs\\PythonData\\lib\\site-packages\\ipykernel_launcher.py:6: FutureWarning: using a dict on a Series for aggregation\n",
      "is deprecated and will be removed in a future version. Use                 named aggregation instead.\n",
      "\n",
      "    >>> grouper.agg(name_1=func_1, name_2=func_2)\n",
      "\n",
      "  \n",
      "C:\\Users\\phili\\Anaconda3\\envs\\PythonData\\lib\\site-packages\\ipykernel_launcher.py:8: FutureWarning: using a dict on a Series for aggregation\n",
      "is deprecated and will be removed in a future version. Use                 named aggregation instead.\n",
      "\n",
      "    >>> grouper.agg(name_1=func_1, name_2=func_2)\n",
      "\n",
      "  \n"
     ]
    }
   ],
   "source": [
    "# Find mice treated with the Infubinol regmen.\n",
    "infubinol_regmen = most_prominent_regimens.loc[[\"Infubinol\"], [\"Mouse ID\", \"Tumor Volume (mm3)\", \"Timepoint\"]]\n",
    "\n",
    "# Group the results by Mouse ID.\n",
    "infubinol_group = infubinol_regmen.groupby(['Mouse ID'])\n",
    "\n",
    "# Calculate the final tumor volume of each mouse.\n",
    "infubinol_res = infubinol_group['Tumor Volume (mm3)'].agg({'last': 'last'})\n",
    "\n",
    "# Rename column to be something more meaningful.\n",
    "infubinol_res = infubinol_group['Tumor Volume (mm3)'].agg({'Final Tumor Volume (mm3)': 'last'})\n",
    "\n",
    "print(\"Final tumor volume of each mouse for Infubinol\")\n",
    "print(\"----------------------------------------------\")\n",
    "print(infubinol_res)\n",
    "print(\"----------------------------------------------\")"
   ]
  },
  {
   "cell_type": "code",
   "execution_count": 45,
   "metadata": {},
   "outputs": [
    {
     "name": "stdout",
     "output_type": "stream",
     "text": [
      "The lower quartile for Ceftamin is: 48.72207785\n",
      "The upper quartile for Ceftamin is: 64.29983003\n",
      "The interquartile range for Ceftamin is: 15.577752179999997\n",
      "The median for Ceftamin is: 59.85195552 \n",
      "Values below 25.355449580000002 could be outliers.\n",
      "Values above 87.66645829999999 could be outliers.\n"
     ]
    }
   ],
   "source": [
    "# Calculate the IQR and quantitatively\n",
    "# determine if there are any potential outliers.\n",
    "# Ceftamin\n",
    "quartiles_ceftamin = ceftamin_res[\"Final Tumor Volume (mm3)\"].quantile([.25,.5,.75])\n",
    "lowerq_ceftamin = quartiles_ceftamin[0.25]\n",
    "upperq_ceftamin = quartiles_ceftamin[0.75]\n",
    "iqr_ceftamin = upperq_ceftamin-lowerq_ceftamin\n",
    "\n",
    "print(f\"The lower quartile for Ceftamin is: {lowerq_ceftamin}\")\n",
    "print(f\"The upper quartile for Ceftamin is: {upperq_ceftamin}\")\n",
    "print(f\"The interquartile range for Ceftamin is: {iqr_ceftamin}\")\n",
    "print(f\"The median for Ceftamin is: {quartiles_ceftamin[0.5]} \")\n",
    "\n",
    "lower_bound_ceftamin = lowerq_ceftamin - (1.5*iqr_ceftamin)\n",
    "upper_bound_ceftamin = upperq_ceftamin + (1.5*iqr_ceftamin)\n",
    "print(f\"Values below {lower_bound_ceftamin} could be outliers.\")\n",
    "print(f\"Values above {upper_bound_ceftamin} could be outliers.\")"
   ]
  },
  {
   "cell_type": "code",
   "execution_count": 50,
   "metadata": {},
   "outputs": [
    {
     "name": "stdout",
     "output_type": "stream",
     "text": [
      "The lower quartile for Capomulin is: 32.37735684\n",
      "The upper quartile for Capomulin is: 40.1592203\n",
      "The interquartile range for Capomulin is: 7.781863460000004\n",
      "The median for Capomulin is: 38.125164399999996 \n",
      "Values below 20.70456164999999 could be outliers.\n",
      "Values above 51.83201549 could be outliers.\n"
     ]
    }
   ],
   "source": [
    "# Calculate the IQR and quantitatively\n",
    "# determine if there are any potential outliers.\n",
    "# Capomulin\n",
    "quartiles_capomulin = capomulin_res[\"Final Tumor Volume (mm3)\"].quantile([.25,.5,.75])\n",
    "lowerq_capomulin = quartiles_capomulin[0.25]\n",
    "upperq_capomulin = quartiles_capomulin[0.75]\n",
    "iqr_capomulin = upperq_capomulin-lowerq_capomulin\n",
    "\n",
    "print(f\"The lower quartile for Capomulin is: {lowerq_capomulin}\")\n",
    "print(f\"The upper quartile for Capomulin is: {upperq_capomulin}\")\n",
    "print(f\"The interquartile range for Capomulin is: {iqr_capomulin}\")\n",
    "print(f\"The median for Capomulin is: {quartiles_capomulin[0.5]} \")\n",
    "\n",
    "lower_bound_capomulin = lowerq_capomulin - (1.5*iqr_capomulin)\n",
    "upper_bound_capomulin = upperq_capomulin + (1.5*iqr_capomulin)\n",
    "print(f\"Values below {lower_bound_capomulin} could be outliers.\")\n",
    "print(f\"Values above {upper_bound_capomulin} could be outliers.\")"
   ]
  },
  {
   "cell_type": "code",
   "execution_count": 51,
   "metadata": {},
   "outputs": [
    {
     "name": "stdout",
     "output_type": "stream",
     "text": [
      "The lower quartile for Ramicane is: 32.37735684\n",
      "The upper quartile for Ramicane is: 40.65900627\n",
      "The interquartile range for Ramicane is: 8.281649430000002\n",
      "The median for Ramicane is: 36.56165229 \n",
      "Values below 19.954882694999995 could be outliers.\n",
      "Values above 53.081480415 could be outliers.\n"
     ]
    }
   ],
   "source": [
    "# Calculate the IQR and quantitatively\n",
    "# determine if there are any potential outliers.\n",
    "# Ramicane\n",
    "quartiles_ramicane = ramicane_res[\"Final Tumor Volume (mm3)\"].quantile([.25,.5,.75])\n",
    "lowerq_ramicane = quartiles_capomulin[0.25]\n",
    "upperq_ramicane = quartiles_ramicane[0.75]\n",
    "iqr_ramicane = upperq_ramicane-lowerq_ramicane\n",
    "\n",
    "print(f\"The lower quartile for Ramicane is: {lowerq_ramicane}\")\n",
    "print(f\"The upper quartile for Ramicane is: {upperq_ramicane}\")\n",
    "print(f\"The interquartile range for Ramicane is: {iqr_ramicane}\")\n",
    "print(f\"The median for Ramicane is: {quartiles_ramicane[0.5]} \")\n",
    "\n",
    "lower_bound_ramicane = lowerq_ramicane - (1.5*iqr_ramicane)\n",
    "upper_bound_ramicane = upperq_ramicane + (1.5*iqr_ramicane)\n",
    "print(f\"Values below {lower_bound_ramicane} could be outliers.\")\n",
    "print(f\"Values above {upper_bound_ramicane} could be outliers.\")"
   ]
  },
  {
   "cell_type": "code",
   "execution_count": 52,
   "metadata": {},
   "outputs": [
    {
     "name": "stdout",
     "output_type": "stream",
     "text": [
      "The lower quartile for Infubinol is: 54.04860769\n",
      "The upper quartile for Infubinol is: 65.52574285\n",
      "The interquartile range for Infubinol is: 11.477135160000003\n",
      "The median for Infubinol is: 60.16518046 \n",
      "Values below 36.83290494999999 could be outliers.\n",
      "Values above 82.74144559000001 could be outliers.\n"
     ]
    }
   ],
   "source": [
    "# Calculate the IQR and quantitatively\n",
    "# determine if there are any potential outliers.\n",
    "# Infubinol\n",
    "quartiles_infubinol = infubinol_res[\"Final Tumor Volume (mm3)\"].quantile([.25,.5,.75])\n",
    "lowerq_infubinol = quartiles_infubinol[0.25]\n",
    "upperq_infubinol = quartiles_infubinol[0.75]\n",
    "iqr_infubinol = upperq_infubinol-lowerq_infubinol\n",
    "\n",
    "print(f\"The lower quartile for Infubinol is: {lowerq_infubinol}\")\n",
    "print(f\"The upper quartile for Infubinol is: {upperq_infubinol}\")\n",
    "print(f\"The interquartile range for Infubinol is: {iqr_infubinol}\")\n",
    "print(f\"The median for Infubinol is: {quartiles_infubinol[0.5]} \")\n",
    "\n",
    "lower_bound_infubinol = lowerq_infubinol - (1.5*iqr_infubinol)\n",
    "upper_bound_infubinol = upperq_infubinol + (1.5*iqr_infubinol)\n",
    "print(f\"Values below {lower_bound_infubinol} could be outliers.\")\n",
    "print(f\"Values above {upper_bound_infubinol} could be outliers.\")"
   ]
  },
  {
   "cell_type": "code",
   "execution_count": 89,
   "metadata": {},
   "outputs": [
    {
     "data": {
      "image/png": "[encoded data removed]",
      "text/plain": [
       "<Figure size 648x432 with 1 Axes>"
      ]
     },
     "metadata": {
      "needs_background": "light"
     },
     "output_type": "display_data"
    }
   ],
   "source": [
    "# Using Matplotlib, generate a box and whisker plot of the final tumor volume for all four treatment regimens\n",
    "# and highlight any potential outliers in the plot by changing their color and style.\n",
    "\n",
    "# Convert pandas series to numpy arrays.\n",
    "collectn_infubinol = infubinol_res['Final Tumor Volume (mm3)'].to_numpy()\n",
    "collectn_ramicane = ramicane_res['Final Tumor Volume (mm3)'].to_numpy()\n",
    "collectn_capomulin = capomulin_res['Final Tumor Volume (mm3)'].to_numpy()\n",
    "collectn_ceftamin = ceftamin_res['Final Tumor Volume (mm3)'].to_numpy()\n",
    "\n",
    "# combine these different collections into a list.    \n",
    "data_to_plot = [collectn_infubinol, collectn_ramicane, collectn_capomulin, collectn_ceftamin]\n",
    "\n",
    "# Create a figure instance.\n",
    "fig = plt.figure(1, figsize=(9, 6))\n",
    "\n",
    "# Create an axes instance.\n",
    "ax = fig.add_subplot(111)\n",
    "\n",
    "# Create the boxplot.\n",
    "bp = ax.boxplot(data_to_plot, patch_artist=True)\n",
    "\n",
    "# Set limits for y-axis.\n",
    "yval = np.concatenate([line.get_ydata() for line in bp['whiskers']])\n",
    "eps = 1.0\n",
    "ymin, ymax = yval.min()-eps, yval.max()+eps\n",
    "ax.set_ylim([ymin,ymax])\n",
    "\n",
    "# change outline color, fill color and linewidth of the boxes\n",
    "for box in bp['boxes']:\n",
    "    # change outline color\n",
    "    box.set( color='#7570b3', linewidth=2)\n",
    "    # change fill color\n",
    "    box.set( facecolor = '#1b9e77' )\n",
    "\n",
    "# change color and linewidth of the whiskers\n",
    "for whisker in bp['whiskers']:\n",
    "    whisker.set(color='#7570b3', linewidth=2)\n",
    "\n",
    "# change color and linewidth of the caps\n",
    "for cap in bp['caps']:\n",
    "    cap.set(color='#7570b3', linewidth=2)\n",
    "\n",
    "# change color and linewidth of the medians\n",
    "for median in bp['medians']:\n",
    "    median.set(color='#b2df8a', linewidth=2)\n",
    "\n",
    "# change the style of fliers and their fill\n",
    "for flier in bp['fliers']:\n",
    "    flier.set(marker='o', color='#e7298a', alpha=0.5)\n",
    "    \n",
    "# Custom x-axis labels\n",
    "ax.set_xticklabels(['Infubinol', 'Ramicane', 'Capomulin', 'Ceftamin'])\n",
    "\n",
    "# Remove top axes and right axes ticks\n",
    "ax.get_xaxis().tick_bottom()\n",
    "ax.get_yaxis().tick_left()\n",
    "\n",
    "# Add title and labels to graph.\n",
    "ax.set_title(\"Final tumor volume (mm3) for mice treated with the most promising regimens.\")\n",
    "ax.set_xlabel(\"Drug Regimen\")\n",
    "ax.set_ylabel(\"Final Tumor Volume (mm3)\")\n",
    "\n",
    "# Save the figure\n",
    "fig.savefig('fig1.png', bbox_inches='tight')"
   ]
  },
  {
   "cell_type": "markdown",
   "metadata": {},
   "source": [
    "# DONE Line and scatter plots"
   ]
  },
  {
   "cell_type": "markdown",
   "metadata": {},
   "source": [
    "## DONE Generate a line plot of time point versus tumor volume for a mouse treated with Capomulin"
   ]
  },
  {
   "cell_type": "code",
   "execution_count": 24,
   "metadata": {},
   "outputs": [
    {
     "name": "stdout",
     "output_type": "stream",
     "text": [
      "    Timepoint  Tumor Volume (mm3)\n",
      "10          0           45.000000\n",
      "11          5           43.878496\n",
      "12         10           37.614948\n",
      "13         15           38.177232\n",
      "14         20           36.866876\n",
      "15         25           33.949940\n",
      "16         30           32.959671\n",
      "17         35           28.328531\n",
      "18         40           25.472143\n",
      "19         45           23.343598\n"
     ]
    },
    {
     "data": {
      "text/plain": [
       "Text(0.5, 1.0, 'Tumor Volume (mm3) Over Time for Mouse s185 (treated with Capomulin)')"
      ]
     },
     "execution_count": 24,
     "metadata": {},
     "output_type": "execute_result"
    },
    {
     "data": {
      "image/png": "[encoded data removed]",
      "text/plain": [
       "<Figure size 432x288 with 1 Axes>"
      ]
     },
     "metadata": {
      "needs_background": "light"
     },
     "output_type": "display_data"
    }
   ],
   "source": [
    "# Set index to Drug Regimen to be able to filter by regimen.\n",
    "capomulin_mice = merged_df.set_index(\"Drug Regimen\")\n",
    "\n",
    "# Filter list to only include drug regimen of Capomulin\n",
    "capomulin_mice = capomulin_mice.loc[\"Capomulin\", [\"Mouse ID\", \"Tumor Volume (mm3)\"]]\n",
    "\n",
    "# From the list of mice treated with Capomulin, store the id for the mouse we want to plot in a variable.\n",
    "mouse_id = \"s185\"\n",
    "\n",
    "# Get data for the the specific mouse\n",
    "mouse_s185 = merged_df.loc[merged_df[\"Mouse ID\"] == mouse_id, [\"Timepoint\", \"Tumor Volume (mm3)\"]]\n",
    "\n",
    "# Print the mouse data for s185.\n",
    "print(mouse_s185)\n",
    "\n",
    "# Create line plot\n",
    "plt.plot(mouse_s185[\"Timepoint\"], mouse_s185[\"Tumor Volume (mm3)\"], linewidth=1, color=\"blue\", marker=\"o\")\n",
    "\n",
    "# Add labels to axes and add title for graph.\n",
    "plt.xlabel(\"Time (Days)\")\n",
    "plt.ylabel(\"Tumor Volume (mm3)\")\n",
    "plt.title(\"Tumor Volume (mm3) Over Time for Mouse s185 (treated with Capomulin)\")"
   ]
  },
  {
   "cell_type": "markdown",
   "metadata": {},
   "source": [
    "## DONE Generate a scatter plot of mouse weight versus average tumor volume for the Capomulin regimen"
   ]
  },
  {
   "cell_type": "code",
   "execution_count": 18,
   "metadata": {},
   "outputs": [
    {
     "name": "stdout",
     "output_type": "stream",
     "text": [
      "          Average Weight (g)  Average Tumor Volume (mm3)\n",
      "Mouse ID                                                \n",
      "b128                      22                   41.963636\n",
      "b742                      21                   40.083699\n",
      "f966                      17                   36.505973\n",
      "g288                      19                   41.990097\n",
      "g316                      22                   44.613344\n",
      "i557                      24                   44.805810\n",
      "i738                      20                   39.141053\n",
      "j119                      23                   44.465236\n",
      "j246                      21                   43.216925\n",
      "l509                      21                   44.434474\n",
      "l897                      19                   42.507261\n",
      "m601                      17                   34.847470\n",
      "m957                      19                   39.049816\n",
      "r157                      25                   45.798970\n",
      "r554                      17                   36.509212\n",
      "r944                      25                   43.367364\n",
      "s185                      17                   34.559143\n",
      "s710                      23                   42.803733\n",
      "t565                      17                   39.328725\n",
      "u364                      17                   39.887495\n",
      "v923                      21                   41.581595\n",
      "w150                      23                   41.384825\n",
      "w914                      21                   41.352452\n",
      "x401                      15                   36.182040\n",
      "y793                      17                   38.506829\n"
     ]
    },
    {
     "data": {
      "image/png": "[encoded data removed]",
      "text/plain": [
       "<Figure size 432x288 with 1 Axes>"
      ]
     },
     "metadata": {
      "needs_background": "light"
     },
     "output_type": "display_data"
    }
   ],
   "source": [
    "# Set index to Drug Regimen to be able to filter by regimen.\n",
    "capomulin_mice = merged_df.set_index(\"Drug Regimen\")\n",
    "\n",
    "# Filter list to only include drug regimen of Capomulin\n",
    "capomulin_mice = capomulin_mice.loc[\"Capomulin\"]\n",
    "\n",
    "# Group by mouse id and find average weight and average tumor volume for each mouse.\n",
    "capomulin_mice = capomulin_mice.groupby([\"Mouse ID\"])[\"Weight (g)\", \"Tumor Volume (mm3)\"].mean()\n",
    "\n",
    "# Rename columns\n",
    "capomulin_mice = capomulin_mice.rename(columns={\n",
    "    \"Weight (g)\": \"Average Weight (g)\",\n",
    "    \"Tumor Volume (mm3)\": \"Average Tumor Volume (mm3)\"\n",
    "})\n",
    "\n",
    "# Here's what the data looks like as a dataframe.\n",
    "print(capomulin_mice)\n",
    "\n",
    "# Create scatter plot.\n",
    "x_values = capomulin_mice[\"Average Weight (g)\"]\n",
    "y_values = capomulin_mice[\"Average Tumor Volume (mm3)\"]\n",
    "plt.scatter(x_values, y_values, marker=\"o\", facecolors=\"red\", edgecolors=\"black\", alpha=0.75)\n",
    "\n",
    "# Add axis labels and title for the graph.\n",
    "plt.xlabel(\"Average Weight (g)\")\n",
    "plt.ylabel(\"Average Tumor Volume (mm3)\")\n",
    "plt.title(\"Average Weight (g) vs Average Tumor Volume for each mouse treated with the Capomulin Regimen\")\n",
    "\n",
    "# Show the plot\n",
    "plt.show()"
   ]
  },
  {
   "cell_type": "markdown",
   "metadata": {},
   "source": [
    "## DONE Calculate the correlation coefficient and linear regression model for average mouse weight and average tumor volume for the Capomulin regimen. Plot the linear regression model on top of the previous scatter plot."
   ]
  },
  {
   "cell_type": "code",
   "execution_count": 19,
   "metadata": {},
   "outputs": [
    {
     "name": "stdout",
     "output_type": "stream",
     "text": [
      "The correlation between both average weight (g) and average tumor volume (mm3) is 0.84\n",
      "The r-squared is: 0.7088568047708717\n"
     ]
    },
    {
     "data": {
      "image/png": "[encoded data removed]",
      "text/plain": [
       "<Figure size 432x288 with 1 Axes>"
      ]
     },
     "metadata": {
      "needs_background": "light"
     },
     "output_type": "display_data"
    }
   ],
   "source": [
    "# Calculate correlation coefficient.\n",
    "correlation = st.pearsonr(x_values, y_values)\n",
    "print(f\"The correlation between both average weight (g) and average tumor volume (mm3) is {round(correlation[0],2)}\")\n",
    "\n",
    "# Calculate linear regression for average mouse weight and average tumor volume.\n",
    "(slope, intercept, rvalue, pvalue, stderr) = st.linregress(x_values, y_values)\n",
    "\n",
    "# Print r squared value.\n",
    "print(f\"The r-squared is: {rvalue ** 2}\")\n",
    "\n",
    "# Calculate regress values\n",
    "regress_values = x_values * slope + intercept\n",
    "\n",
    "# Create line equation.\n",
    "line_eq = \"y = \" + str(round(slope,2)) + \"x + \" + str(round(intercept,2))\n",
    "\n",
    "# Plot scatter plot\n",
    "plt.scatter(x_values,y_values)\n",
    "\n",
    "# Plot the linear regression line/equation on top of the plot.\n",
    "plt.plot(x_values,regress_values,\"r-\")\n",
    "plt.annotate(line_eq,(20,37),fontsize=15,color=\"red\")\n",
    "\n",
    "# Add labels to axes and add a title for the graph.\n",
    "plt.xlabel('Average Weight (g)')\n",
    "plt.ylabel('Average Tumor Volume (mm3)')\n",
    "plt.title(\"Average Weight (g) vs Average Tumor Volume for each mouse treated with the Capomulin Regimen\")\n",
    "\n",
    "# Show the plot.\n",
    "plt.show()"
   ]
  },
  {
   "cell_type": "code",
   "execution_count": null,
   "metadata": {},
   "outputs": [],
   "source": []
  }
 ],
 "metadata": {
  "kernelspec": {
   "display_name": "Python 3",
   "language": "python",
   "name": "python3"
  },
  "language_info": {
   "codemirror_mode": {
    "name": "ipython",
    "version": 3
   },
   "file_extension": ".py",
   "mimetype": "text/x-python",
   "name": "python",
   "nbconvert_exporter": "python",
   "pygments_lexer": "ipython3",
   "version": "3.6.9"
  }
 },
 "nbformat": 4,
 "nbformat_minor": 2
}
